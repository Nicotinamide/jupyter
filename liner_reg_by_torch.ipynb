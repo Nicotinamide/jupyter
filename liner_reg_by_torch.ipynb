{
  "nbformat": 4,
  "nbformat_minor": 0,
  "metadata": {
    "colab": {
      "name": "liner_reg_by_torch.ipynb",
      "provenance": [],
      "authorship_tag": "ABX9TyOq5KDssrr6G5dl07J6v5ae",
      "include_colab_link": true
    },
    "kernelspec": {
      "name": "python3",
      "display_name": "Python 3"
    },
    "language_info": {
      "name": "python"
    }
  },
  "cells": [
    {
      "cell_type": "markdown",
      "metadata": {
        "id": "view-in-github",
        "colab_type": "text"
      },
      "source": [
        "<a href=\"https://colab.research.google.com/github/Nicotinamide/jupyter/blob/main/liner_reg_by_torch.ipynb\" target=\"_parent\"><img src=\"https://colab.research.google.com/assets/colab-badge.svg\" alt=\"Open In Colab\"/></a>"
      ]
    },
    {
      "cell_type": "code",
      "execution_count": null,
      "metadata": {
        "id": "C2NcY5hTXFBJ"
      },
      "outputs": [],
      "source": [
        "!pip install d2l"
      ]
    },
    {
      "cell_type": "code",
      "source": [
        "import numpy as np\n",
        "import torch\n",
        "from torch.utils import data\n",
        "from d2l import torch as d2l\n",
        "\n",
        "true_w = torch.tensor([2,-3.4])\n",
        "true_b = 4.2\n",
        "features, labels = d2l.synthetic_data(true_w,true_b,1000)  ### synthetic_data函数具体内容见从零实现  人工生成数据集"
      ],
      "metadata": {
        "id": "9j2D7XyLXmeC"
      },
      "execution_count": 1,
      "outputs": []
    },
    {
      "cell_type": "code",
      "source": [
        "### 调用框架中现有API来读取数据data.TensorDataset 和 data.DataLoader ...\n",
        "def load_array(data_arrays,batch_size,is_train=True):\n",
        "  dataset = data.TensorDataset(*data_arrays)                  ### 将传入的数据捆绑？并未合并，函数获得小批量！！\n",
        "  return data.DataLoader(dataset,batch_size,shuffle=is_train)\n",
        "\n",
        "batch_size = 10\n",
        "data_iter = load_array((features, labels), batch_size)\n",
        "\n",
        "next(iter(data_iter))                             ### next(iter())其中iter()生成迭代器，而next()获得下一个元素，两者组合使用\n"
      ],
      "metadata": {
        "id": "BuYMfRRUYL0j"
      },
      "execution_count": null,
      "outputs": []
    },
    {
      "cell_type": "code",
      "source": [
        "#### 测试学习段\n",
        "'''\n",
        "X = torch.arange(100).reshape((-1,2))\n",
        "y = torch.rand(50)\n",
        "data_iter = load_array((X,y),10,is_train=False)\n",
        "##next(iter(data_iter))\n",
        "for X,y in data_iter:\n",
        "  print(X,y)\n",
        "'''\n",
        "\n",
        "### 得到data_iter可以通过for来分批次将所有数据取出！！！"
      ],
      "metadata": {
        "colab": {
          "base_uri": "https://localhost:8080/"
        },
        "id": "xQ4uMSbUbAg4",
        "outputId": "80d2edb8-8ef5-4f4a-80b0-194f54a2ac7c"
      },
      "execution_count": 20,
      "outputs": [
        {
          "output_type": "stream",
          "name": "stdout",
          "text": [
            "tensor([[ 0,  1],\n",
            "        [ 2,  3],\n",
            "        [ 4,  5],\n",
            "        [ 6,  7],\n",
            "        [ 8,  9],\n",
            "        [10, 11],\n",
            "        [12, 13],\n",
            "        [14, 15],\n",
            "        [16, 17],\n",
            "        [18, 19]]) tensor([0.4435, 0.5359, 0.5223, 0.9893, 0.0159, 0.5559, 0.2110, 0.4170, 0.1267,\n",
            "        0.1650])\n",
            "tensor([[20, 21],\n",
            "        [22, 23],\n",
            "        [24, 25],\n",
            "        [26, 27],\n",
            "        [28, 29],\n",
            "        [30, 31],\n",
            "        [32, 33],\n",
            "        [34, 35],\n",
            "        [36, 37],\n",
            "        [38, 39]]) tensor([0.9760, 0.6152, 0.5633, 0.0073, 0.3367, 0.0997, 0.2977, 0.8366, 0.1045,\n",
            "        0.0024])\n",
            "tensor([[40, 41],\n",
            "        [42, 43],\n",
            "        [44, 45],\n",
            "        [46, 47],\n",
            "        [48, 49],\n",
            "        [50, 51],\n",
            "        [52, 53],\n",
            "        [54, 55],\n",
            "        [56, 57],\n",
            "        [58, 59]]) tensor([0.5692, 0.8944, 0.6273, 0.9464, 0.9599, 0.0032, 0.4709, 0.2342, 0.3282,\n",
            "        0.4412])\n",
            "tensor([[60, 61],\n",
            "        [62, 63],\n",
            "        [64, 65],\n",
            "        [66, 67],\n",
            "        [68, 69],\n",
            "        [70, 71],\n",
            "        [72, 73],\n",
            "        [74, 75],\n",
            "        [76, 77],\n",
            "        [78, 79]]) tensor([0.8290, 0.9329, 0.9296, 0.4459, 0.3437, 0.0923, 0.8057, 0.2074, 0.1189,\n",
            "        0.4161])\n",
            "tensor([[80, 81],\n",
            "        [82, 83],\n",
            "        [84, 85],\n",
            "        [86, 87],\n",
            "        [88, 89],\n",
            "        [90, 91],\n",
            "        [92, 93],\n",
            "        [94, 95],\n",
            "        [96, 97],\n",
            "        [98, 99]]) tensor([0.0438, 0.8606, 0.3631, 0.1734, 0.0555, 0.0685, 0.3470, 0.3339, 0.1395,\n",
            "        0.0774])\n"
          ]
        }
      ]
    },
    {
      "cell_type": "code",
      "source": [
        "### 使用框架的预定义好的层\n",
        "from torch import nn\n",
        "net = nn.Sequential(nn.Linear(2,1))                    ### Sequential()容器list of layers将层按顺序一个个放在一起  nn.Linear() "
      ],
      "metadata": {
        "id": "oYm3HG6Qc6U_"
      },
      "execution_count": 13,
      "outputs": []
    },
    {
      "cell_type": "code",
      "source": [
        "net[0].weight.data.normal_(0,0.01)                ### 随机初始化w与b\n",
        "net[0].bias.data.fill_(0)"
      ],
      "metadata": {
        "colab": {
          "base_uri": "https://localhost:8080/"
        },
        "id": "heQM6aZRdPaT",
        "outputId": "e3db1e4d-7bd1-40e9-acbd-2e82c37e51a1"
      },
      "execution_count": 14,
      "outputs": [
        {
          "output_type": "execute_result",
          "data": {
            "text/plain": [
              "tensor([0.])"
            ]
          },
          "metadata": {},
          "execution_count": 14
        }
      ]
    },
    {
      "cell_type": "code",
      "source": [
        "### MSELoss 均方误差  L2\n",
        "loss = nn.MSELoss()"
      ],
      "metadata": {
        "id": "ZnHY5PT7eErx"
      },
      "execution_count": 15,
      "outputs": []
    },
    {
      "cell_type": "code",
      "source": [
        "### SGD实例\n",
        "trainer = torch.optim.SGD(net.parameters(),lr=0.03)       ### 传入所有参数，并定义学习率"
      ],
      "metadata": {
        "id": "y5XChRAfeO3e"
      },
      "execution_count": 16,
      "outputs": []
    },
    {
      "cell_type": "code",
      "source": [
        "### 训练代码\n",
        "num_epochs = 3\n",
        "for epoch in range(num_epochs):\n",
        "  for X,y in data_iter:\n",
        "    l = loss(net(X),y)\n",
        "    trainer.zero_grad()\n",
        "    l.backward()\n",
        "    trainer.step()\n",
        "  l = loss(net(features),labels)\n",
        "  print(f'epoch {epoch +1}, loss {l:f}')"
      ],
      "metadata": {
        "colab": {
          "base_uri": "https://localhost:8080/"
        },
        "id": "46dvYP9feubY",
        "outputId": "d5034d2c-8dd4-4856-fd72-7330308ff8c7"
      },
      "execution_count": 17,
      "outputs": [
        {
          "output_type": "stream",
          "name": "stdout",
          "text": [
            "epoch 1, loss 0.000187\n",
            "epoch 2, loss 0.000098\n",
            "epoch 3, loss 0.000099\n"
          ]
        }
      ]
    }
  ]
}